{
  "nbformat": 4,
  "nbformat_minor": 0,
  "metadata": {
    "kernelspec": {
      "display_name": "Python 3",
      "language": "python",
      "name": "python3"
    },
    "language_info": {
      "codemirror_mode": {
        "name": "ipython",
        "version": 3
      },
      "file_extension": ".py",
      "mimetype": "text/x-python",
      "name": "python",
      "nbconvert_exporter": "python",
      "pygments_lexer": "ipython3",
      "version": "3.6.6"
    },
    "colab": {
      "name": " Hotel Booking Analysis - Capstone Project.ipynb",
      "provenance": [],
      "collapsed_sections": [],
      "include_colab_link": true
    }
  },
  "cells": [
    {
      "cell_type": "markdown",
      "metadata": {
        "id": "view-in-github",
        "colab_type": "text"
      },
      "source": [
        "<a href=\"https://colab.research.google.com/github/MukundP2/Hotel-Booking-analysis/blob/main/Hotel_Booking_Analysis_Capstone_Project.ipynb\" target=\"_parent\"><img src=\"https://colab.research.google.com/assets/colab-badge.svg\" alt=\"Open In Colab\"/></a>"
      ]
    },
    {
      "cell_type": "markdown",
      "metadata": {
        "id": "Y06xIdG26kRF"
      },
      "source": [
        "## <b> Have you ever wondered when the best time of year to book a hotel room is? Or the optimal length of stay in order to get the best daily rate? What if you wanted to predict whether or not a hotel was likely to receive a disproportionately high number of special requests? This hotel booking dataset can help you explore those questions!\n",
        "\n",
        "## <b>This data set contains booking information for a city hotel and a resort hotel, and includes information such as when the booking was made, length of stay, the number of adults, children, and/or babies, and the number of available parking spaces, among other things. All personally identifying information has been removed from the data. </b>\n",
        "\n",
        "## <b> Explore and analyze the data to discover important factors that govern the bookings. </b>"
      ]
    },
    {
      "cell_type": "code",
      "metadata": {
        "id": "dByMsuzT8Tnw"
      },
      "source": [
        "# import required modules\n",
        "\n",
        "import pandas as pd\n",
        "import numpy as np\n",
        "import matplotlib.pyplot as plt\n",
        "import seaborn as sns\n",
        "import matplotlib.ticker as mtick\n",
        "import plotly \n",
        "import plotly.express as px"
      ],
      "execution_count": null,
      "outputs": []
    },
    {
      "cell_type": "code",
      "source": [
        "from google.colab import drive\n",
        "drive.mount('/content/drive')"
      ],
      "metadata": {
        "id": "abyAAkiF8xGv"
      },
      "execution_count": null,
      "outputs": []
    },
    {
      "cell_type": "code",
      "source": [
        "# Path of the raw dataset of Hotel Booking\n",
        "data_path = '/content/drive/MyDrive/Capstone  Hotel/project/Copy of Hotel Bookings.csv'"
      ],
      "metadata": {
        "id": "Me-l3vL67muK"
      },
      "execution_count": null,
      "outputs": []
    },
    {
      "cell_type": "markdown",
      "source": [
        "# **Exploring the dataset**"
      ],
      "metadata": {
        "id": "4iuDY-RTNGgf"
      }
    },
    {
      "cell_type": "code",
      "source": [
        "# Loading the dataset\n",
        "hotel_booking_raw_ds = pd.read_csv(data_path)\n",
        "hotel_booking_raw_ds"
      ],
      "metadata": {
        "id": "5QE1Kzt3-mN6"
      },
      "execution_count": null,
      "outputs": []
    },
    {
      "cell_type": "code",
      "source": [
        "# creating a copy of the dataset\n",
        "ds = hotel_booking_raw_ds\n",
        "\n",
        "ds.head()\n",
        "\n"
      ],
      "metadata": {
        "id": "oA0Ca5zk_WUb"
      },
      "execution_count": null,
      "outputs": []
    },
    {
      "cell_type": "code",
      "source": [
        "ds.tail()\n"
      ],
      "metadata": {
        "id": "m2_VfMfx_u_v"
      },
      "execution_count": null,
      "outputs": []
    },
    {
      "cell_type": "code",
      "source": [
        "ds.shape"
      ],
      "metadata": {
        "id": "6vd6HaFNBJh9"
      },
      "execution_count": null,
      "outputs": []
    },
    {
      "cell_type": "code",
      "source": [
        "ds.info()"
      ],
      "metadata": {
        "id": "rmKRpprOBYZP"
      },
      "execution_count": null,
      "outputs": []
    },
    {
      "cell_type": "code",
      "source": [
        "# checking the null values\n",
        "ds.isnull().sum().sort_values(ascending=False)"
      ],
      "metadata": {
        "id": "xC9k3qbEJX0U"
      },
      "execution_count": null,
      "outputs": []
    },
    {
      "cell_type": "code",
      "source": [
        "# null values percentage\n",
        "percentage_miss = (ds.isnull().sum()/ds.isnull().count()*100).sort_values(ascending=False)\n",
        "percentage_miss"
      ],
      "metadata": {
        "id": "OF52Q91tDmVb"
      },
      "execution_count": null,
      "outputs": []
    },
    {
      "cell_type": "markdown",
      "source": [
        "**In agent column we have id_number of agents, So we will replace the null values to zero in those columns.**"
      ],
      "metadata": {
        "id": "GyziWAhKFv2d"
      }
    },
    {
      "cell_type": "code",
      "source": [
        "# Filling 0.0 in place of null values in agent column\n",
        "ds[['agent']] = ds[['agent']].fillna(0.0)\n",
        "ds[['children']] = ds[['children']].fillna(0.0)\n",
        "\n",
        "# comfirming the change\n",
        "\n",
        "ds.isnull().sum().sort_values(ascending=False)"
      ],
      "metadata": {
        "id": "vMDrDUptDmSR"
      },
      "execution_count": null,
      "outputs": []
    },
    {
      "cell_type": "code",
      "source": [
        "ds[(ds.adults + ds.babies + ds.children) == 0].shape"
      ],
      "metadata": {
        "id": "zBrWfDqcDmOI"
      },
      "execution_count": null,
      "outputs": []
    },
    {
      "cell_type": "code",
      "source": [
        ""
      ],
      "metadata": {
        "id": "DIHaRCBrciyn"
      },
      "execution_count": null,
      "outputs": []
    },
    {
      "cell_type": "markdown",
      "source": [
        "There are 180 rows where adults + babies + children is equal to 0. The number of guests can't be 0, so we will drop this rows."
      ],
      "metadata": {
        "id": "lH9e6BAupzbZ"
      }
    },
    {
      "cell_type": "code",
      "source": [
        "# droping row where adults + babies + children = 0\n",
        "\n",
        "ds= ds.drop(ds[(ds.adults + ds.babies + ds.children) == 0].index)"
      ],
      "metadata": {
        "id": "Io7zWkolDmLy"
      },
      "execution_count": null,
      "outputs": []
    },
    {
      "cell_type": "markdown",
      "source": [
        "Country column contains the country codes of the guests, it is categorical feature so we will also replace it with the mode value."
      ],
      "metadata": {
        "id": "Zu5K57qgqEQz"
      }
    },
    {
      "cell_type": "code",
      "source": [
        "# replacing mode value in place of null values in country column\n",
        "\n",
        "ds['country'] = ds['country'].fillna(ds.country.mode().to_string())"
      ],
      "metadata": {
        "id": "F10oEWEkDmCq"
      },
      "execution_count": null,
      "outputs": []
    },
    {
      "cell_type": "code",
      "source": [
        "ds.dtypes"
      ],
      "metadata": {
        "id": "80QW5lb3Dlz1"
      },
      "execution_count": null,
      "outputs": []
    },
    {
      "cell_type": "markdown",
      "source": [
        "Converting Agent and children float datatype to integer      \n",
        "      \n",
        "    "
      ],
      "metadata": {
        "id": "og-CyHD0qWTH"
      }
    },
    {
      "cell_type": "code",
      "source": [
        "ds[['children', 'agent']] = ds[['children', 'agent']].astype('int64')\n",
        "ds[['children', 'agent']] "
      ],
      "metadata": {
        "id": "2HQhPtiqqVzD"
      },
      "execution_count": null,
      "outputs": []
    },
    {
      "cell_type": "markdown",
      "source": [
        "# **What is the percentage of canceled booking?**\n",
        "\n",
        "\n",
        "\n"
      ],
      "metadata": {
        "id": "abG-dqf_CtY_"
      }
    },
    {
      "cell_type": "code",
      "source": [
        "# canceled bookings \n",
        "canceled_bookings= ds['is_canceled'].value_counts()\n",
        "canceled_bookings\n",
        "\n"
      ],
      "metadata": {
        "id": "SEHWlP9vBkaD"
      },
      "execution_count": null,
      "outputs": []
    },
    {
      "cell_type": "code",
      "source": [
        "# Percentage of canceled bookings \n",
        "\n",
        "\n",
        "ds['is_canceled'].value_counts(normalize=True)*100"
      ],
      "metadata": {
        "id": "jsadgRxhqyMN"
      },
      "execution_count": null,
      "outputs": []
    },
    {
      "cell_type": "code",
      "source": [
        "canceled_bookings.plot(kind='pie',autopct ='%1.1f%%',figsize =(8,8),fontsize= 15,colors=['red' ,'blue'],radius=1,labels=['not canceled','canceled'])\n",
        "\n",
        "plt.title('Percentage of canceled bookings ',fontsize = 20)\n",
        "plt.show()"
      ],
      "metadata": {
        "id": "nMG9G-9Lq2vk"
      },
      "execution_count": null,
      "outputs": []
    },
    {
      "cell_type": "markdown",
      "source": [
        "# As we can see more than 37% of bookings where canceled."
      ],
      "metadata": {
        "id": "2xncglWbtABG"
      }
    },
    {
      "cell_type": "markdown",
      "source": [
        "# **Which segment brings in the most of the bookings?**\n",
        "\n",
        "\n"
      ],
      "metadata": {
        "id": "uYk615aXtgu5"
      }
    },
    {
      "cell_type": "code",
      "source": [
        "# creating a plot function\n",
        "\n",
        "def plot(x, y, x_label=None,y_label=None, title=None, figsize=(7,5), type='bar',colors=[]):\n",
        "  \n",
        "    sns.set_style('darkgrid')\n",
        "    \n",
        "    fig, ax = plt.subplots(figsize=figsize)\n",
        "    \n",
        "    ax.yaxis.set_major_formatter(mtick.PercentFormatter())\n",
        "    \n",
        "    if x_label != None:\n",
        "        ax.set_xlabel(x_label)\n",
        "    \n",
        "    if y_label != None:\n",
        "        ax.set_ylabel(y_label)\n",
        "        \n",
        "    if title != None:\n",
        "        ax.set_title(title)\n",
        "    \n",
        "    if type == 'bar':\n",
        "        sns.barplot(x,y, ax = ax)\n",
        "    elif type == 'line':\n",
        "        sns.lineplot(x,y, ax = ax, sort=False)\n",
        "        \n",
        "    \n",
        "    plt.show()"
      ],
      "metadata": {
        "id": "c53o8-ku0iJq"
      },
      "execution_count": null,
      "outputs": []
    },
    {
      "cell_type": "code",
      "source": [
        "# creating a function get_count\n",
        "\n",
        "\n",
        "def get_count(series, limit=None):\n",
        " \n",
        "    if limit != None:\n",
        "        series = series.value_counts()[:limit]\n",
        "    else:\n",
        "        series = series.value_counts()\n",
        "    \n",
        "    x = series.index\n",
        "    y = series/series.sum()*100\n",
        "    \n",
        "    return x.values,y.values"
      ],
      "metadata": {
        "id": "5MmGwmumuZTB"
      },
      "execution_count": null,
      "outputs": []
    },
    {
      "cell_type": "code",
      "source": [
        "# plot bar chart \n",
        "x,y = get_count(ds['market_segment'])\n",
        "plot(x,y, x_label='market_segment', y_label='Total Booking (%)', title='market_segment-wise booking', figsize=(15,7),colors=['black','red','green','blue','orange','yellow','pink','brown'])"
      ],
      "metadata": {
        "id": "MOPl5HzJuZJf"
      },
      "execution_count": null,
      "outputs": []
    },
    {
      "cell_type": "markdown",
      "source": [
        "# Online Travel Agents followed by Ofline Travel Agents brings in most of the booking"
      ],
      "metadata": {
        "id": "Ze1Tdk_sMvY7"
      }
    },
    {
      "cell_type": "markdown",
      "source": [
        "# **Which is the top country from where most booking are coming?**"
      ],
      "metadata": {
        "id": "C7toL1yWge2Y"
      }
    },
    {
      "cell_type": "code",
      "source": [
        "# select the bookings which was not cancelled\n",
        "confirm_bookings = hotel_booking_raw_ds[hotel_booking_raw_ds['is_canceled']==0]"
      ],
      "metadata": {
        "id": "IGpFXYeuTRXk"
      },
      "execution_count": null,
      "outputs": []
    },
    {
      "cell_type": "code",
      "source": [
        "# Number of bookings fro each country store in one variable\n",
        "get_count= confirm_bookings['country'].value_counts() "
      ],
      "metadata": {
        "id": "-nWoCMyWS_bw"
      },
      "execution_count": null,
      "outputs": []
    },
    {
      "cell_type": "code",
      "source": [
        "# Top 15 counties which has highest amount of hotel bookings\n",
        "get_count.head(15)"
      ],
      "metadata": {
        "id": "jjNbTqWBSeio"
      },
      "execution_count": null,
      "outputs": []
    },
    {
      "cell_type": "code",
      "source": [
        "Bookings_from_country = get_count.head(15)\n",
        "country_names = ['Portugal','United Kingdom','France','Spain','Germany','Ireland','Italy','Belgium','Netherlands','USA','Brazil','Switzerland','Austria','China','Sweden']"
      ],
      "metadata": {
        "id": "N3L0q0U3S48s"
      },
      "execution_count": null,
      "outputs": []
    },
    {
      "cell_type": "code",
      "source": [
        "plt.figure(figsize=(20,7))\n",
        "plt.bar(country_names,Bookings_from_country,color = ['palegreen','mediumpurple','palevioletred','cadetblue','salmon','lightskyblue','palegreen','navajowhite','rosybrown','springgreen','coral','slategray','plum'])\n",
        "plt.xlabel('Country')\n",
        "plt.ylabel('Number of Bookings')\n",
        "plt.title('Hotel Bookings across the contries')"
      ],
      "metadata": {
        "id": "KAioN8b3UVYx"
      },
      "execution_count": null,
      "outputs": []
    },
    {
      "cell_type": "markdown",
      "source": [
        "### or"
      ],
      "metadata": {
        "id": "xV1cUcHvUYHa"
      }
    },
    {
      "cell_type": "code",
      "source": [
        "ds_not_canceled = ds[ds['is_canceled'] == 0]"
      ],
      "metadata": {
        "id": "P4Mv8PuHCeAG"
      },
      "execution_count": null,
      "outputs": []
    },
    {
      "cell_type": "code",
      "source": [
        "# show on map\n",
        "temp = ds_not_canceled['country'].value_counts().reset_index().rename(columns={'index':'country','country':'count'})\n",
        "guest_map = px.choropleth(temp,locations=temp['country'],color=np.log(temp['count']), hover_name=temp['country'], \n",
        "                          color_continuous_scale=px.colors.sequential.Plasma,title=\"Home country of guests\")\n",
        "\n",
        "guest_map.show()"
      ],
      "metadata": {
        "id": "f0RaHMvKhEpD"
      },
      "execution_count": null,
      "outputs": []
    },
    {
      "cell_type": "markdown",
      "source": [
        "\n",
        "# Portugal is the top country from where most hotel bookings are coming."
      ],
      "metadata": {
        "id": "HtYZzODNharB"
      }
    },
    {
      "cell_type": "markdown",
      "source": [
        "# **What is most preffered Meal type ?**"
      ],
      "metadata": {
        "id": "5A_JJOVbU8l5"
      }
    },
    {
      "cell_type": "code",
      "source": [
        "meal_type = ['Bed and Breakfast', 'Half Board','Self Catering','Undefined','Full Board']\n",
        "meal_count= confirm_bookings['meal'].value_counts()"
      ],
      "metadata": {
        "id": "5XPKVvLUUybs"
      },
      "execution_count": null,
      "outputs": []
    },
    {
      "cell_type": "code",
      "source": [
        "# Percentage of meal type count.\n",
        "percentage_meal_count = confirm_bookings['meal'].value_counts(normalize= True)*100\n",
        "percentage_meal_count"
      ],
      "metadata": {
        "id": "oQydnuxlU1ar"
      },
      "execution_count": null,
      "outputs": []
    },
    {
      "cell_type": "code",
      "source": [
        "# Visualisation of percentage meal count\n",
        "plt.figure(figsize=(10,5))\n",
        "plt.bar(meal_type, meal_count)\n",
        "plt.xlabel('Meal Type')\n",
        "plt.ylabel('Number of Bookings')\n",
        "plt.title('Most demandding Meal Types')"
      ],
      "metadata": {
        "id": "5ticwqrxU4pm"
      },
      "execution_count": null,
      "outputs": []
    },
    {
      "cell_type": "markdown",
      "source": [
        "# Bed and Breakfast id most preffered meal"
      ],
      "metadata": {
        "id": "pPRooMV5U_nb"
      }
    },
    {
      "cell_type": "markdown",
      "source": [
        "# **Which is the most trending months for hotel booking?**"
      ],
      "metadata": {
        "id": "T17BOrpmN1mu"
      }
    },
    {
      "cell_type": "code",
      "source": [
        "# creating a data frame with the bookings which did not get canceled\n",
        "\n",
        "ds_not_canceled = ds[ds['is_canceled'] == 0]"
      ],
      "metadata": {
        "id": "CCaHm1xzN1Wd"
      },
      "execution_count": null,
      "outputs": []
    },
    {
      "cell_type": "code",
      "source": [
        "# plot a line plot for month of arrival\n",
        "\n",
        "new_order = ['January', 'February', 'March', 'April', 'May', 'June', 'July', 'August', 'September',\n",
        "             'October', 'November', 'December']\n",
        "\n",
        "sorted_months = ds_not_canceled['arrival_date_month'].value_counts().reindex(new_order)\n",
        "\n",
        "x = sorted_months.index\n",
        "y = sorted_months/sorted_months.sum()*100"
      ],
      "metadata": {
        "id": "ImqbKIEQOMtF"
      },
      "execution_count": null,
      "outputs": []
    },
    {
      "cell_type": "code",
      "source": [
        "#sns.lineplot(x, y)\n",
        "plot(x, y, x_label='Months', y_label='Booking (%)', title='Booking Trend (Monthly)', type='line', figsize=(18,6))"
      ],
      "metadata": {
        "id": "tBnV_mynOQwl"
      },
      "execution_count": null,
      "outputs": []
    },
    {
      "cell_type": "code",
      "source": [
        "# Bar plot for months vs Number of Bookings\n",
        "x_axis_data = sorted_months.index\n",
        "y_axis_data = sorted_months\n",
        "plt.figure(figsize=(12,7))\n",
        "plt.bar(x_axis_data,y_axis_data, color = ['red','mediumpurple','palevioletred','cadetblue','salmon','lightskyblue','palegreen','green','springgreen','coral','slategray','plum'])\n",
        "plt.xlabel('Months')\n",
        "plt.ylabel('Number of Bookings')\n",
        "plt.title('Number of Bookings in each Months')"
      ],
      "metadata": {
        "id": "s5jtNf3mRwxz"
      },
      "execution_count": null,
      "outputs": []
    },
    {
      "cell_type": "markdown",
      "source": [
        "# Month of August is the most trending months for the hotel booking."
      ],
      "metadata": {
        "id": "1OQlgcO7OU3F"
      }
    },
    {
      "cell_type": "markdown",
      "source": [
        "# **How long the peoples stayed in the hotel?**#"
      ],
      "metadata": {
        "id": "v6fA-_aYhiud"
      }
    },
    {
      "cell_type": "code",
      "source": [
        "def get_count(series, limit=None):\n",
        " \n",
        "    if limit != None:\n",
        "        series = series.value_counts()[:limit]\n",
        "    else:\n",
        "        series = series.value_counts()\n",
        "    \n",
        "    x = series.index\n",
        "    y = series/series.sum()*100\n",
        "    \n",
        "    return x.values,y.values"
      ],
      "metadata": {
        "id": "cKYKrCVOzwHx"
      },
      "execution_count": null,
      "outputs": []
    },
    {
      "cell_type": "code",
      "source": [
        "# plotting a bar plot for booking percentage to night stay duration.\n",
        "\n",
        "total_nights = ds_not_canceled['stays_in_weekend_nights']+ ds_not_canceled['stays_in_week_nights']\n",
        "x,y = get_count(total_nights, limit=10)\n",
        "\n",
        "plot(x,y, x_label='Number of Nights', y_label='Booking Percentage (%)', title='Night Stay Duration (Top 10)', figsize=(15,7))"
      ],
      "metadata": {
        "id": "flzeDr7-hWaO"
      },
      "execution_count": null,
      "outputs": []
    },
    {
      "cell_type": "markdown",
      "source": [
        "\n",
        "# More than 60% of guests comes under 1, 2 and 3 night stays options."
      ],
      "metadata": {
        "id": "olBMNlJSh9VY"
      }
    },
    {
      "cell_type": "markdown",
      "source": [
        "# **Which was the most booked accommodation type (Single, Couple, Family)?**"
      ],
      "metadata": {
        "id": "-5ZIiep7ib45"
      }
    },
    {
      "cell_type": "code",
      "source": [
        "# for single, couple, multiple and family\n",
        "\n",
        "single   = ds_not_canceled[(ds_not_canceled.adults==1) & (ds_not_canceled.children==0) & (ds_not_canceled.babies==0)]\n",
        "couple   = ds_not_canceled[(ds_not_canceled.adults==2) & (ds_not_canceled.children==0) & (ds_not_canceled.babies==0)]\n",
        "family   = ds_not_canceled[ds_not_canceled.adults + ds_not_canceled.children + ds_not_canceled.babies > 2]\n",
        "\n",
        "\n",
        "# the list of Category names, and their total percentage\n",
        "names = ['Single', 'Couple (No Children)', 'Family / Friends']\n",
        "count = [single.shape[0],couple.shape[0], family.shape[0]]\n",
        "count_percent = [x/ds_not_canceled.shape[0]*100 for x in count]\n",
        "\n",
        "\n",
        "# plot\n",
        "plot(names,count_percent,  y_label='Booking (%)', title='Accommodation Type', figsize=(10,7))"
      ],
      "metadata": {
        "id": "EU9CFkSSidwW"
      },
      "execution_count": null,
      "outputs": []
    },
    {
      "cell_type": "markdown",
      "source": [
        "# Couple (or 2 adults) is the most popular accommodation type. So hotels can make plans accordingly"
      ],
      "metadata": {
        "id": "iZUOxa9ajIFH"
      }
    },
    {
      "cell_type": "markdown",
      "source": [
        "# **Ploting the heatmap**"
      ],
      "metadata": {
        "id": "7SJuVsP4jQcS"
      }
    },
    {
      "cell_type": "code",
      "source": [
        "corr_matrix = hotel_booking_raw_ds.corr()\n",
        "sns.set(style='white',font_scale=2.2)\n",
        "fig = plt.figure(figsize=[35,30])\n",
        "mask = np.triu(np.ones_like(corr_matrix, dtype=bool))\n",
        "cmap = sns.diverging_palette(150, 0, as_cmap=True)\n",
        "sns.heatmap(corr_matrix,cmap='seismic',linewidth=3,linecolor='white',vmax = 1, vmin=-1,mask=mask, annot=True,fmt='0.2f')\n",
        "plt.title('Correlation Heatmap', weight='bold',fontsize=30)\n",
        "plt.savefig('heatmap.png',transparent=True, bbox_inches='tight')"
      ],
      "metadata": {
        "id": "PZQeT5hmYM3v"
      },
      "execution_count": null,
      "outputs": []
    },
    {
      "cell_type": "markdown",
      "source": [
        "### or"
      ],
      "metadata": {
        "id": "w8iXLHrWYz7A"
      }
    },
    {
      "cell_type": "code",
      "source": [
        "# Ploting the heatmap to see correlation with columns\n",
        "\n",
        "\n",
        "fig, ax = plt.subplots(figsize=(35,25))\n",
        "sns.heatmap(ds.corr(), annot=True, ax=ax);"
      ],
      "metadata": {
        "id": "41QzS5ShjKz4"
      },
      "execution_count": null,
      "outputs": []
    },
    {
      "cell_type": "markdown",
      "source": [
        "#Correlation Conclusion:\n",
        "# 1. adr and children are positive correlated by 33%\n",
        "#2. It can be observed arrival_date_week_number and arrival_date_year are 54% negative correlated\n",
        "#3. previous_bookings_not_cancelled and is_repeated_guest are 42% positive correleated\n"
      ],
      "metadata": {
        "id": "IqiS_jbmjp4s"
      }
    },
    {
      "cell_type": "markdown",
      "source": [
        "# **Average Daily Rate (ADR) comparision of city hotel and resort hotel.**"
      ],
      "metadata": {
        "id": "YMONyBEOj6M-"
      }
    },
    {
      "cell_type": "code",
      "source": [
        "# lineplot of ADR\n",
        "\n",
        "plt.figure(figsize=(12,8))\n",
        "sns.lineplot(x = 'arrival_date_month', y = 'adr', hue= 'hotel', data = ds_not_canceled)"
      ],
      "metadata": {
        "id": "meF2oXjFj_p_"
      },
      "execution_count": null,
      "outputs": []
    },
    {
      "cell_type": "markdown",
      "source": [
        "# Average Daily Rate (ADR) for the months of July and August are strikingly more for the Resort Hotel than the City Hotel."
      ],
      "metadata": {
        "id": "Kq9jC51dkSjC"
      }
    },
    {
      "cell_type": "markdown",
      "source": [
        "# **What is the relation of deposits to the booking cancellation?**"
      ],
      "metadata": {
        "id": "9FOtYav0kW5Q"
      }
    },
    {
      "cell_type": "code",
      "source": [
        "# counting refundable deposits\n",
        "\n",
        "ds[ds.deposit_type == 'Refundable'].deposit_type.count()"
      ],
      "metadata": {
        "id": "jDWC5zg2kWZI"
      },
      "execution_count": null,
      "outputs": []
    },
    {
      "cell_type": "code",
      "source": [
        "# ploting count plot\n",
        "\n",
        "fig = plt.gcf()\n",
        "fig.set_size_inches(12, 8)\n",
        "plt.title(\"Booking Canceled or not by Deposit type\")\n",
        "sns.countplot(x='deposit_type',data=ds ,hue='is_canceled')"
      ],
      "metadata": {
        "id": "i9TKD25ekp8q"
      },
      "execution_count": null,
      "outputs": []
    },
    {
      "cell_type": "markdown",
      "source": [
        "# No deposit cancellations are high compared to other categories"
      ],
      "metadata": {
        "id": "fpIUrrynk9OF"
      }
    },
    {
      "cell_type": "markdown",
      "source": [
        "# **What is the relationship between lead time and cancellation?**"
      ],
      "metadata": {
        "id": "fhyIQEqblC41"
      }
    },
    {
      "cell_type": "code",
      "source": [
        "a = ds.groupby(\"lead_time\")['is_canceled'].describe()\n",
        "a"
      ],
      "metadata": {
        "id": "85r-UYfHlLWz"
      },
      "execution_count": null,
      "outputs": []
    },
    {
      "cell_type": "code",
      "source": [
        "fig = plt.gcf()\n",
        "fig.set_size_inches(12, 8)\n",
        "a = ds.groupby(\"lead_time\")['is_canceled'].describe()\n",
        "sns.scatterplot(x=a.index, y=a[\"mean\"] * 100)"
      ],
      "metadata": {
        "id": "Lc3c_uM3lkkK"
      },
      "execution_count": null,
      "outputs": []
    },
    {
      "cell_type": "markdown",
      "source": [
        "# **Conclusion :**\n",
        "1. More than 37% of bookings where canceled.\n",
        "2. Online Travel Agents followed by Ofline Travel Agents brings in most of the bookings.\n",
        "3. Portugal is the top country from where most hotel bookings are coming.\n",
        "4.Bed and Breakfast id most preffered meal\n",
        "4. Month of August is the most trending months for the Hotel Booking.\n",
        "5. More than 60% of guests comes under 1,2 and 3 night stays options.\n",
        "6. Couple (or 2 adults) is the most popular accommodation type. So hotels can make plans accordingly.\n",
        "7. ### Ploting the heatmap\n",
        "   -Adr and children are positive correlated by 33%.\n",
        "\n",
        "   -It can be observed arrival_date_week_number and arrival_date_year are 54%   negative correlated.\n",
        "\n",
        "  -Previous_bookings_not_cancelled and is_repeated_guest are 42% positive    correleated.\n",
        "8. Average Daily Rate (ADR) for the months of July and August are strikingly more for the Resort Hotel than the City Hotel.\n",
        "9. No deposit cancellations are high compared to other categories but these should not be discouraged per se as bookings in this category are also very high compared to non refundable type bookings.\n",
        "10. it is observed that lead time has a positive correlation with cancellation."
      ],
      "metadata": {
        "id": "Np2Dn1o-l3mm"
      }
    }
  ]
}